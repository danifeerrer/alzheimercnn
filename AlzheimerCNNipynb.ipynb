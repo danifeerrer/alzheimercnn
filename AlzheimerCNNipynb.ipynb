{
  "nbformat": 4,
  "nbformat_minor": 0,
  "metadata": {
    "colab": {
      "provenance": [],
      "machine_shape": "hm",
      "gpuType": "A100",
      "authorship_tag": "ABX9TyOFVICodGNwJU3/nJ+JVulZ",
      "include_colab_link": true
    },
    "kernelspec": {
      "name": "python3",
      "display_name": "Python 3"
    },
    "language_info": {
      "name": "python"
    },
    "accelerator": "GPU"
  },
  "cells": [
    {
      "cell_type": "markdown",
      "metadata": {
        "id": "view-in-github",
        "colab_type": "text"
      },
      "source": [
        "<a href=\"https://colab.research.google.com/github/danifeerrer/alzheimercnn/blob/main/AlzheimerCNNipynb.ipynb\" target=\"_parent\"><img src=\"https://colab.research.google.com/assets/colab-badge.svg\" alt=\"Open In Colab\"/></a>"
      ]
    },
    {
      "cell_type": "code",
      "execution_count": 1,
      "metadata": {
        "colab": {
          "base_uri": "https://localhost:8080/"
        },
        "id": "17087tX4ZRKB",
        "outputId": "c9e9a08b-0539-4683-8daf-c4c6c6733d7b"
      },
      "outputs": [
        {
          "output_type": "stream",
          "name": "stdout",
          "text": [
            "GPU active! - [PhysicalDevice(name='/physical_device:GPU:0', device_type='GPU')]\n"
          ]
        }
      ],
      "source": [
        "import pandas as pd\n",
        "import numpy as np\n",
        "import matplotlib.pyplot as plt\n",
        "import matplotlib.image as mpimg\n",
        "import seaborn as sns\n",
        "import math\n",
        "import os\n",
        "import warnings\n",
        "warnings.filterwarnings('ignore')\n",
        "\n",
        "from sklearn.utils.class_weight import compute_class_weight\n",
        "from sklearn.metrics import classification_report, confusion_matrix\n",
        "\n",
        "import keras\n",
        "from tensorflow import keras\n",
        "from keras import Sequential\n",
        "from keras import layers\n",
        "import tensorflow as tf\n",
        "from tensorflow.keras.preprocessing import image_dataset_from_directory\n",
        "from tensorflow.keras import Sequential\n",
        "from tensorflow.keras.utils import to_categorical\n",
        "from tensorflow.keras.layers import Dense, Dropout, Activation, BatchNormalization, Flatten, Conv2D, MaxPooling2D\n",
        "from tensorflow.keras.callbacks import ModelCheckpoint, EarlyStopping\n",
        "\n",
        "plt.rcParams[\"figure.figsize\"] = (10,6)\n",
        "plt.rcParams['figure.dpi'] = 300\n",
        "colors = [\"#B6EE56\", \"#D85F9C\", \"#EEA756\", \"#56EEE8\"]\n",
        "try:\n",
        "    if tf.test.gpu_device_name():\n",
        "        physical_devices = tf.config.experimental.list_physical_devices('GPU')\n",
        "        print('GPU active! -', physical_devices)\n",
        "    else:\n",
        "        print('GPU not active!')\n",
        "except Exception as e:\n",
        "    print('An error occurred while checking the GPU:', e)\n"
      ]
    },
    {
      "cell_type": "code",
      "source": [
        "class_dist = {}\n",
        "def image_counter(folder_path):\n",
        "    basename = os.path.basename(folder_path)\n",
        "    print('\\033[92m'+f\"A search has been initiated within the folder named '{basename}'.\"+'\\033[0m')\n",
        "    image_extensions = ['.jpg', '.jpeg', '.png']\n",
        "\n",
        "    for root, dirs, _ in os.walk(folder_path):\n",
        "        for dir_name in dirs:\n",
        "            dir_path = os.path.join(root, dir_name)\n",
        "            count = 0\n",
        "\n",
        "            for filename in os.listdir(dir_path):\n",
        "                file_ext = os.path.splitext(filename)[1].lower()\n",
        "\n",
        "                if file_ext in image_extensions:\n",
        "                    count += 1\n",
        "\n",
        "            class_dist[dir_name] = count\n",
        "            print(f\"There are \\033[35m{count}\\033[0m images in the {dir_name} folder.\")\n",
        "    print('\\033[92m'+\"The search has been completed.\"+'\\033[0m')\n",
        "\n",
        "    keys = list(class_dist.keys())\n",
        "    values = list(class_dist.values())\n",
        "    explode = (0.1,)*len(keys)\n",
        "\n",
        "    labels = [f'{key} ({value} images)' for key, value in zip(keys, values)]\n",
        "\n",
        "    plt.pie(values, explode=explode,labels=labels, autopct='%1.1f%%',\n",
        "            shadow=True, startangle=90, colors=colors, textprops={'fontsize': 12, \"fontweight\" : \"bold\", \"color\":\"darkblue\"},  wedgeprops=\n",
        "           {'edgecolor':'darkblue'} , labeldistance=1.15)\n",
        "    plt.title(\"Distribution of \\nAlzheimer MRI Images\", size=12, fontweight=\"bold\")\n",
        "\n",
        "PATH = '/kaggle/input/alzheimer-mri-dataset/Dataset'\n",
        "\n",
        "image_counter(PATH)"
      ],
      "metadata": {
        "id": "wVA7q71eiWw8"
      },
      "execution_count": null,
      "outputs": []
    }
  ]
}